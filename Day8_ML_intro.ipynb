{
 "cells": [
  {
   "cell_type": "markdown",
   "id": "12533ba6-a414-4fe7-8bec-d4f27d39b2e5",
   "metadata": {},
   "source": [
    "# Using ML techniques to infer a multiplier\n",
    "\n",
    "### Scenario\n",
    "\n",
    "You discover that the number of apple seeds is directly tied to the overall height of the fruit, the seed count just needs to be multiplied by some fixed number. Create a model such that given the number of seeds, you can predict the height of the fruit. ***Use an iterative guessing approach to estimate the value of the multiplier.***"
   ]
  },
  {
   "cell_type": "markdown",
   "id": "2cc3efe5-553f-4be9-95e0-ee1a4c96ebea",
   "metadata": {},
   "source": [
    "### We use two packages for this\n",
    "1. random - to generate random numbers\n",
    "2. numpy - this package handles matricies (or more technically arrays, which may have more dimensions than a matrix)"
   ]
  },
  {
   "cell_type": "code",
   "execution_count": 9,
   "id": "6359a1f8-8f41-4709-9898-7faf13fa5d4a",
   "metadata": {},
   "outputs": [],
   "source": [
    "import random\n",
    "import numpy as np"
   ]
  },
  {
   "cell_type": "markdown",
   "id": "b9bcff20-4918-4051-838a-8e9e788d0400",
   "metadata": {},
   "source": [
    "## Part 1 - Set up data"
   ]
  },
  {
   "cell_type": "markdown",
   "id": "21f82737-0ec7-4981-aaea-b95537961a83",
   "metadata": {},
   "source": [
    "### Randomly select the multiplier\n",
    "This will be the value the seed count is multiplied by, and the number we're trying to discover\n",
    "* Select a random number between 10 and 100 (uniform distribution) and set it equal to a variable named \"actual_multiplier\""
   ]
  },
  {
   "cell_type": "code",
   "execution_count": 115,
   "id": "767e5ea2-fd39-42c8-a615-34ebaff96076",
   "metadata": {},
   "outputs": [
    {
     "name": "stdout",
     "output_type": "stream",
     "text": [
      "59.91286552353418\n"
     ]
    }
   ],
   "source": [
    "actual_multiplier = random.uniform(10, 100)\n",
    "print(actual_multiplier)"
   ]
  },
  {
   "cell_type": "code",
   "execution_count": 113,
   "id": "8c809fb9-0de1-4f42-95c0-48c5812085e9",
   "metadata": {},
   "outputs": [
    {
     "name": "stdout",
     "output_type": "stream",
     "text": [
      "18\n"
     ]
    }
   ],
   "source": [
    "integer = random.randint(10, 28)\n",
    "print(integer)"
   ]
  },
  {
   "cell_type": "markdown",
   "id": "f27dd8bf-eaa5-4006-9ab8-d6905ddc249e",
   "metadata": {},
   "source": [
    "### Collect some apple seeds\n",
    "Collect some samples of apple seeds, and measure the associated fruits\n",
    "* To start we'll use 10 samples with different numbers of seeds in each sample. Here we'll use numbers 1, 2, ..., 9, 10\n",
    "    * Make a numpy array named seed_count_array with these values\n",
    "* For obvious reasons, we will not be measuring any apples right now. We're going to cheat a bit and say that the height of the associated apples were the number of seeds times our multiplier value plus noise\n",
    "    * Make a numpy array called apple_height_array that is length 10, and equal to the seed_count_array times the actual_multiplier\n",
    "    * Use the np.random.random method to create an array of length 10, and name it noise_array\n",
    "    * Add the values from the elements of the noise array to the elements of apple_height_array\n",
    "* Print out the actual_multiplier, seed_count_array, and apple_height_array"
   ]
  },
  {
   "cell_type": "code",
   "execution_count": 12,
   "id": "f3b5b472-30b9-49e1-bbe0-d5fa502896f2",
   "metadata": {
    "collapsed": true,
    "jupyter": {
     "outputs_hidden": true
    },
    "tags": []
   },
   "outputs": [
    {
     "name": "stdout",
     "output_type": "stream",
     "text": [
      "1\n",
      "2\n",
      "3\n",
      "4\n",
      "5\n",
      "6\n",
      "7\n",
      "8\n",
      "9\n",
      "10\n"
     ]
    }
   ],
   "source": [
    "x = range(1,11)\n",
    "for i in x:\n",
    "    print(i)  "
   ]
  },
  {
   "cell_type": "code",
   "execution_count": 13,
   "id": "7d5fd8eb-b580-418b-838f-379a86921b57",
   "metadata": {},
   "outputs": [
    {
     "name": "stdout",
     "output_type": "stream",
     "text": [
      "[ 1  2  3  4  5  6  7  8  9 10]\n"
     ]
    }
   ],
   "source": [
    "# Using loop\n",
    "seed_count_array = np.array(x)\n",
    "print(seed_count_array) "
   ]
  },
  {
   "cell_type": "code",
   "execution_count": 14,
   "id": "0bc91572-c7bf-4208-99e1-f1db7fe77a93",
   "metadata": {},
   "outputs": [
    {
     "name": "stdout",
     "output_type": "stream",
     "text": [
      "[ 1  2  3  4  5  6  7  8  9 10]\n"
     ]
    }
   ],
   "source": [
    "#Using loop directly inside np.array\n",
    "seed_count_array = np.array([j+1 for j in range(10)])\n",
    "print(seed_count_array)"
   ]
  },
  {
   "cell_type": "code",
   "execution_count": 15,
   "id": "bcbfac4b-0374-4fc9-ab55-5560585db092",
   "metadata": {},
   "outputs": [
    {
     "name": "stdout",
     "output_type": "stream",
     "text": [
      "[ 1  2  3  4  5  6  7  8  9 10]\n"
     ]
    }
   ],
   "source": [
    "#Using np.arange\n",
    "seed_count_array = np.arange(10)+1\n",
    "print(seed_count_array)"
   ]
  },
  {
   "cell_type": "code",
   "execution_count": 116,
   "id": "da9276c1-97f5-4667-83d6-7414beb3a726",
   "metadata": {},
   "outputs": [
    {
     "name": "stdout",
     "output_type": "stream",
     "text": [
      "[ 59.91286552 119.82573105 179.73859657 239.65146209 299.56432762\n",
      " 359.47719314 419.39005866 479.30292419 539.21578971 599.12865524]\n"
     ]
    }
   ],
   "source": [
    "apple_height_array = seed_count_array * actual_multiplier\n",
    "print (apple_height_array)"
   ]
  },
  {
   "cell_type": "code",
   "execution_count": 117,
   "id": "8e8489fb-66f1-439d-9a0b-f4e3864495d0",
   "metadata": {},
   "outputs": [
    {
     "name": "stdout",
     "output_type": "stream",
     "text": [
      "[0.0122146  0.37390198 0.81286549 0.54073873 0.24852424 0.65458349\n",
      " 0.58835778 0.97139727 0.0346342  0.33131222]\n"
     ]
    }
   ],
   "source": [
    "noise_array = np.random.random(size=10)\n",
    "print(noise_array)"
   ]
  },
  {
   "cell_type": "code",
   "execution_count": 118,
   "id": "07003b66-a4aa-4694-b141-3e77f3430adb",
   "metadata": {},
   "outputs": [],
   "source": [
    "apple_height_array = apple_height_array + noise_array"
   ]
  },
  {
   "cell_type": "code",
   "execution_count": 119,
   "id": "4863f46e-dfcb-449c-ab7b-bf1ab70c4ada",
   "metadata": {},
   "outputs": [
    {
     "name": "stdout",
     "output_type": "stream",
     "text": [
      "59.91286552353418 [ 1  2  3  4  5  6  7  8  9 10] [ 59.92508012 120.19963303 180.55146206 240.19220082 299.81285185\n",
      " 360.13177663 419.97841645 480.27432145 539.25042391 599.45996745]\n"
     ]
    }
   ],
   "source": [
    "print (actual_multiplier, seed_count_array, apple_height_array)"
   ]
  },
  {
   "cell_type": "markdown",
   "id": "34c2c05d-d52f-4a38-be42-fc71c4e47f53",
   "metadata": {},
   "source": [
    "### Sidenote - How contrived is this exercise?\n",
    "\n",
    "This is toy problem where we know the answer before we start. The point of this example is understand overall process of iterative improvement. Relationships typically being modelled with ML are more complicated than a simple multiplier, but suprisingly little changes for more complex problems. Here we're modelling a single parameter, but many models used in biology have 10s of millions, but are built out of many simple calculations like our exercise. The math is more advanced (but maybe not as much as you might think) and beyond our scope, but wouldn't serve much practical use anyway since these calculations are never ever done by hand, and a comprehensive understanding of them is not strictly necessary unless researching novel algorithm designs."
   ]
  },
  {
   "cell_type": "markdown",
   "id": "7671afc0-8e38-41f7-aeba-5308772b45eb",
   "metadata": {},
   "source": [
    "## Part 2 - Build out a training loop"
   ]
  },
  {
   "cell_type": "markdown",
   "id": "47364488-5e4e-4123-88dc-17465b0ce6ae",
   "metadata": {
    "tags": []
   },
   "source": [
    "### Steps (Add steps from slides here)\n",
    "1. \n",
    "2. \n",
    "3. \n",
    "4. \n",
    "5. "
   ]
  },
  {
   "cell_type": "code",
   "execution_count": 124,
   "id": "f7b0d68a-944b-47a8-b7f3-54670497b45a",
   "metadata": {
    "tags": []
   },
   "outputs": [],
   "source": [
    "### Steps\n",
    "#1. Write a nested for-loops to 1) make a random prediction for each sample and 2) go through 10 epochs\n",
    "#   - Write a prediction function (names predict_multiplier) for this that guesses a value from -100 to 100\n",
    "#2. Write a fucntion (named calculate_loss) that substracts the prediction from the true value\n",
    "#  - N.B the multiplier is the parameter we are trying to guess, the prediction is the multiplier times the number of seeds\n",
    "#  - At each step print the loss, predict multiplier, actual multiplier, predicted target, actual target, and number of seeds\n",
    "#3. Create a variable that keeps track of the best (lowest) loss value - call it best_loss\n",
    "#  - Make a list called best_param_list that appaends another list of the loss, predicted multiplier, actual multiplier, \n",
    "#    predicted taregt, actual target, and number od seeds (making a list of lists) whenever a new best loss is found\n",
    "#  - Try increasing the number of epochs\n",
    "#4. Update the predict fucntion to take in the previous step's prediction and loss to make the output more acccurate\n",
    "#  - Add a step before your loop to initialise these values\n",
    "#5. \n"
   ]
  },
  {
   "cell_type": "code",
   "execution_count": null,
   "id": "59899d51-207e-4417-a8d1-72a6779b858b",
   "metadata": {
    "tags": []
   },
   "outputs": [],
   "source": [
    "#1. Write a nested for-loops to 1) make a random prediction for each sample and 2) go through 10 epochs\n",
    "#    - Write a prediction function (names predict_multiplier) for this that guesses a value from -100 to 100"
   ]
  },
  {
   "cell_type": "code",
   "execution_count": 217,
   "id": "8d2f750f-bad3-47a9-96e9-d47aecf59953",
   "metadata": {},
   "outputs": [],
   "source": [
    "def predict_multiplier():\n",
    "    number = random.uniform(-100, 100)\n",
    "    return number"
   ]
  },
  {
   "cell_type": "code",
   "execution_count": 151,
   "id": "8056f34c-edb3-4761-8df6-ee6d27ef5492",
   "metadata": {},
   "outputs": [
    {
     "name": "stdout",
     "output_type": "stream",
     "text": [
      "77.8709229753332\n"
     ]
    }
   ],
   "source": [
    "print (predict_multiplier())"
   ]
  },
  {
   "cell_type": "code",
   "execution_count": 161,
   "id": "f03e062b-e131-4da1-88d8-9ab7eac377b5",
   "metadata": {
    "collapsed": true,
    "jupyter": {
     "outputs_hidden": true
    },
    "tags": []
   },
   "outputs": [
    {
     "name": "stdout",
     "output_type": "stream",
     "text": [
      "0 1 -80.36890230854794\n",
      "0 2 -12.922977465133584\n",
      "0 3 -70.06153527431303\n",
      "0 4 25.879458832950974\n",
      "0 5 86.4502244180236\n",
      "0 6 10.921754577538877\n",
      "0 7 -84.47504261162618\n",
      "0 8 -54.15813597429122\n",
      "0 9 -80.48308406077949\n",
      "0 10 -52.624437302312785\n",
      "\n",
      "1 1 38.25240351686338\n",
      "1 2 76.40697827420291\n",
      "1 3 -17.78811778532841\n",
      "1 4 1.9627345455149623\n",
      "1 5 -87.02142429611683\n",
      "1 6 -68.29364216716286\n",
      "1 7 58.78363799831271\n",
      "1 8 31.737669249408896\n",
      "1 9 37.294302419939356\n",
      "1 10 74.3903632139978\n",
      "\n",
      "2 1 -27.58468549724155\n",
      "2 2 -62.818796095868734\n",
      "2 3 72.4935965622472\n",
      "2 4 -7.139713796022789\n",
      "2 5 -0.3761045715355209\n",
      "2 6 -37.237102488893534\n",
      "2 7 -26.882970720206956\n",
      "2 8 -18.68832312034776\n",
      "2 9 98.74458906026464\n",
      "2 10 85.96507701239125\n",
      "\n",
      "3 1 -4.308205167494904\n",
      "3 2 -73.74929140001736\n",
      "3 3 -31.11429836734534\n",
      "3 4 50.38134674050963\n",
      "3 5 7.43150831269341\n",
      "3 6 32.780014097791735\n",
      "3 7 -60.63881312047981\n",
      "3 8 -15.076012982473827\n",
      "3 9 -1.1036991770685347\n",
      "3 10 -70.41983467490076\n",
      "\n",
      "4 1 -36.184749986980094\n",
      "4 2 7.944409689976823\n",
      "4 3 36.842836519144925\n",
      "4 4 -36.62801955870276\n",
      "4 5 -66.8606020502228\n",
      "4 6 -70.66141787792996\n",
      "4 7 34.73294715429262\n",
      "4 8 62.06321355270882\n",
      "4 9 -96.26482142653734\n",
      "4 10 -74.93596265743186\n",
      "\n",
      "5 1 95.80224546448838\n",
      "5 2 95.75669096968602\n",
      "5 3 18.656323948101416\n",
      "5 4 25.50585198148285\n",
      "5 5 -43.35950795027848\n",
      "5 6 -57.10201263344157\n",
      "5 7 -71.3259935963396\n",
      "5 8 -56.4326693028804\n",
      "5 9 -90.19848394731702\n",
      "5 10 -72.90769948567768\n",
      "\n",
      "6 1 13.462614743585519\n",
      "6 2 47.14355907640723\n",
      "6 3 2.411338892340993\n",
      "6 4 -81.93420247234728\n",
      "6 5 -21.642445644965605\n",
      "6 6 -30.761118070470346\n",
      "6 7 -25.845928226095992\n",
      "6 8 90.43483070595252\n",
      "6 9 20.64522443979446\n",
      "6 10 87.18835213438493\n",
      "\n",
      "7 1 -24.399940377892023\n",
      "7 2 96.55909154610592\n",
      "7 3 57.562164352699455\n",
      "7 4 13.78564822038743\n",
      "7 5 61.14100594071596\n",
      "7 6 56.76675162003741\n",
      "7 7 -16.35586372131617\n",
      "7 8 34.3670453255904\n",
      "7 9 -39.43664709031785\n",
      "7 10 -6.482851185722211\n",
      "\n",
      "8 1 9.9718319150289\n",
      "8 2 -59.33886101338472\n",
      "8 3 -0.7105849527323329\n",
      "8 4 -24.133214910394813\n",
      "8 5 77.3548072309182\n",
      "8 6 80.63903950242715\n",
      "8 7 -99.30536875433337\n",
      "8 8 -37.32964966511445\n",
      "8 9 -54.15779651508523\n",
      "8 10 -87.48149694895255\n",
      "\n",
      "9 1 -29.853475789845206\n",
      "9 2 -75.16882771708057\n",
      "9 3 -40.56089225802326\n",
      "9 4 -11.038131388751978\n",
      "9 5 45.695456604937334\n",
      "9 6 45.45875585964973\n",
      "9 7 92.33551060074646\n",
      "9 8 -40.816288896942844\n",
      "9 9 58.06182045627028\n",
      "9 10 -68.98240845729919\n",
      "\n"
     ]
    }
   ],
   "source": [
    "for epoch in np.arange(10):\n",
    "    for sample in seed_count_array:\n",
    "        predict_multiplier = random.uniform(-100, 100)\n",
    "        print(epoch, sample, predict_multiplier)       \n",
    "    print()"
   ]
  },
  {
   "cell_type": "code",
   "execution_count": 114,
   "id": "ef0284a0-c8f8-4226-80d5-39d454a97637",
   "metadata": {},
   "outputs": [],
   "source": [
    "#2. Write a fucntion (named calculate_loss) that substracts the prediction from the true value\n",
    "#  - N.B the multiplier is the parameter we are trying to guess, the prediction is the multiplier times the number of seeds\n",
    "#  - At each step print the loss, predict multiplier, actual multiplier, predicted target, actual target, and number of seeds"
   ]
  },
  {
   "cell_type": "code",
   "execution_count": 88,
   "id": "ae353538-b601-4abc-9bfc-9771a79c7c8e",
   "metadata": {},
   "outputs": [],
   "source": [
    "def calculate_loss (true_value, prediction):\n",
    "    return true_value - prediction"
   ]
  },
  {
   "cell_type": "code",
   "execution_count": null,
   "id": "079e272d-0360-4fdf-85dc-a51470259107",
   "metadata": {},
   "outputs": [],
   "source": [
    "#3. create a variable that keeps track of the best (lowest) loss value - call it best_loss\n",
    "#  - Make a list called best_param_list that appaneds another list of the loss, predicted multiplier, \n",
    "#    actual multiplier, predicted taregt, actual target, and number od seeds (making a list of lists) whenever a new best loss is found\n",
    "#  - Try increasing the number of epochs"
   ]
  },
  {
   "cell_type": "code",
   "execution_count": 218,
   "id": "1deea707-d82a-4ac3-94c2-77398f098815",
   "metadata": {
    "tags": []
   },
   "outputs": [
    {
     "name": "stdout",
     "output_type": "stream",
     "text": [
      "loss, prediction, apple_height_array[sample], guess, actual_multiplier, seed_count_array[sample]\n"
     ]
    }
   ],
   "source": [
    "epoch_count = 10000\n",
    "best_loss = 10   # needs a value to start with....\n",
    "best_param_list = []\n",
    "\n",
    "print('loss, prediction, apple_height_array[sample], guess, actual_multiplier, seed_count_array[sample]')\n",
    "for epoch in range(epoch_count):\n",
    "    for sample in range(len(seed_count_array)):\n",
    "        guess = predict_multiplier()\n",
    "        prediction = guess*seed_count_array[sample]\n",
    "        loss = calculate_loss(apple_height_array[sample], prediction)\n",
    "        if abs(loss) < abs(best_loss):\n",
    "            best_param_list.append([loss, prediction, apple_height_array[sample], guess, actual_multiplier, seed_count_array[sample]])\n",
    "            best_loss = loss\n",
    "        #print(loss, prediction, apple_height_array[sample], guess, actual_multiplier, seed_count_array[sample])\n",
    "    #print()"
   ]
  },
  {
   "cell_type": "code",
   "execution_count": 219,
   "id": "449cb981-c11e-4c1e-a6e5-11debf1cc1e1",
   "metadata": {
    "collapsed": true,
    "jupyter": {
     "outputs_hidden": true
    },
    "tags": []
   },
   "outputs": [
    {
     "name": "stdout",
     "output_type": "stream",
     "text": [
      "-0.0016548208717495072\n",
      "[8.983129112901736, 410.9952873321976, 419.97841644509936, 58.71361247602823, 59.91286552353418, 7]\n",
      "[-5.303799074578421, 125.50343210586561, 120.19963303128719, 62.75171605293281, 59.91286552353418, 2]\n",
      "[-5.26960116581202, 65.19468128438825, 59.92508011857623, 65.19468128438825, 59.91286552353418, 1]\n",
      "[2.129315475737144, 118.07031755555005, 120.19963303128719, 59.035158777775024, 59.91286552353418, 2]\n",
      "[1.1784660936904743, 239.013734726886, 240.1922008205765, 59.7534336817215, 59.91286552353418, 4]\n",
      "[-0.8171735139451926, 241.00937433452168, 240.1922008205765, 60.25234358363042, 59.91286552353418, 4]\n",
      "[-0.7815947599336823, 120.98122779122087, 120.19963303128719, 60.49061389561044, 59.91286552353418, 2]\n",
      "[-0.6614068005172271, 300.4742586536332, 299.812851853116, 60.094851730726646, 59.91286552353418, 5]\n",
      "[-0.0058397563482515125, 59.930919874924484, 59.92508011857623, 59.930919874924484, 59.91286552353418, 1]\n",
      "[0.0023569335335764663, 59.922723185042656, 59.92508011857623, 59.922723185042656, 59.91286552353418, 1]\n",
      "[-0.0016548208717495072, 419.9800712659711, 419.97841644509936, 59.99715303799587, 59.91286552353418, 7]\n"
     ]
    }
   ],
   "source": [
    "print(best_loss)\n",
    "for row in best_param_list:\n",
    "    print(row)"
   ]
  },
  {
   "cell_type": "code",
   "execution_count": null,
   "id": "648ba4d2-1665-4114-80c8-0ea2cfcebf62",
   "metadata": {},
   "outputs": [],
   "source": [
    "#4. Update the predict fucntion to take in the previous step's prediction and loss to make the output more acccurate\n",
    "#  - Add a step before your loop to initialise these values"
   ]
  },
  {
   "cell_type": "code",
   "execution_count": 211,
   "id": "cdc863e9-28ec-433a-99c6-932ca467d448",
   "metadata": {},
   "outputs": [],
   "source": [
    "def calculate_loss (y_true, y_pred):\n",
    "    return y_true - y_pred"
   ]
  },
  {
   "cell_type": "code",
   "execution_count": 210,
   "id": "05213f98-d00c-4dc5-9e00-f8a083e94506",
   "metadata": {},
   "outputs": [],
   "source": [
    "def predict_multiplier(last_guess, last_loss):\n",
    "    return last_guess + (last_loss*0.001)   "
   ]
  },
  {
   "cell_type": "code",
   "execution_count": 214,
   "id": "d83de750-1f89-4ae7-954d-486605d56b2c",
   "metadata": {
    "tags": []
   },
   "outputs": [],
   "source": [
    "epoch_count = 10000\n",
    "sample_count = len(seed_count_array)\n",
    "best_loss = 10   # needs a value to start with....\n",
    "best_param_list = []\n",
    "\n",
    "predicted_multiplier = random.uniform(-100, 100)\n",
    "loss = calculate_loss(apple_height_array[0], predicted_multiplier*seed_count_array[0])\n",
    "\n",
    "for i in range(epoch_count):\n",
    "    for j in range(sample_count):\n",
    "        predicted_multiplier = predict_multiplier(predicted_multiplier, loss\seed_count_array[0])     \n",
    "        loss = calculate_loss(apple_height_array[j], predicted_multiplier*seed_count_array[0])\n",
    "        if abs(loss) < abs(best_loss):\n",
    "            best_param_list.append([loss, predicted_multiplier, actual_multiplier, predicted_multiplier*seed_count_array[j], apple_height_array[j], seed_count_array[j]])\n",
    "            best_loss = loss\n",
    "     \n",
    "        #print(loss, predicted_multiplier, actual_multiplier, predicted_multiplier*seed_count_array[j], apple_height_array[j], seed_count_array[j])"
   ]
  },
  {
   "cell_type": "code",
   "execution_count": 215,
   "id": "1a649e98-2d1d-4f6e-9dd7-3d6689a4a66b",
   "metadata": {
    "collapsed": true,
    "jupyter": {
     "outputs_hidden": true
    },
    "tags": []
   },
   "outputs": [
    {
     "name": "stdout",
     "output_type": "stream",
     "text": [
      "-0.037355823435461843\n",
      "[8.967858252234876, 50.95722186634136, 59.91286552353418, 50.95722186634136, 59.92508011857623, 1]\n",
      "[6.185252839457846, 53.73982727911839, 59.91286552353418, 53.73982727911839, 59.92508011857623, 1]\n",
      "[3.4303485968940137, 56.49473152168222, 59.91286552353418, 56.49473152168222, 59.92508011857623, 1]\n",
      "[0.7028697560755788, 59.222210362500654, 59.91286552353418, 59.222210362500654, 59.92508011857623, 1]\n",
      "[0.5762039512981687, 179.97525810653363, 59.91286552353418, 539.9257743196009, 180.5514620578318, 3]\n",
      "[0.3211127912861116, 239.87108802929038, 59.91286552353418, 959.4843521171615, 240.1922008205765, 4]\n",
      "[0.26331926001466854, 299.54953259310133, 59.91286552353418, 1497.7476629655066, 299.812851853116, 5]\n",
      "[-0.037355823435461843, 299.85020767655146, 59.91286552353418, 1499.2510383827573, 299.812851853116, 5]\n"
     ]
    }
   ],
   "source": [
    "print(best_loss)\n",
    "for row in best_param_list:\n",
    "    print(row)"
   ]
  },
  {
   "cell_type": "code",
   "execution_count": null,
   "id": "56ab3e76-d53e-4057-9504-5fd377214fc1",
   "metadata": {},
   "outputs": [],
   "source": []
  },
  {
   "cell_type": "code",
   "execution_count": null,
   "id": "e8dae9e8-c362-48c1-88f8-0115b1bfe26b",
   "metadata": {},
   "outputs": [],
   "source": []
  },
  {
   "cell_type": "code",
   "execution_count": 70,
   "id": "29cbcb18-3ad6-42f3-a18a-e524be0f5697",
   "metadata": {},
   "outputs": [
    {
     "name": "stdout",
     "output_type": "stream",
     "text": [
      "31.274257546420642\n"
     ]
    }
   ],
   "source": [
    "# My try for #2\n",
    "prediction = predict_multiplier() * seed_count_array[sample]\n",
    "print(prediction)   \n",
    "loss = calculate_loss(apple_height_array[sample], prediction)"
   ]
  },
  {
   "cell_type": "code",
   "execution_count": 115,
   "id": "f00d0a0c-2108-4686-aba7-fd3158ebef89",
   "metadata": {},
   "outputs": [],
   "source": [
    "# Append two lists\n",
    "test_list = []\n",
    "for i in range(10):\n",
    "    for j in range(10):\n",
    "        second_list = [i,j]\n",
    "        test_list.append(second_list)"
   ]
  },
  {
   "cell_type": "code",
   "execution_count": 120,
   "id": "13c2f7bc-f88b-443d-9417-cc299e63fdc6",
   "metadata": {
    "collapsed": true,
    "jupyter": {
     "outputs_hidden": true
    },
    "tags": []
   },
   "outputs": [
    {
     "name": "stdout",
     "output_type": "stream",
     "text": [
      "[[0, 0], [0, 1], [0, 2], [0, 3], [0, 4], [0, 5], [0, 6], [0, 7], [0, 8], [0, 9], [1, 0], [1, 1], [1, 2], [1, 3], [1, 4], [1, 5], [1, 6], [1, 7], [1, 8], [1, 9], [2, 0], [2, 1], [2, 2], [2, 3], [2, 4], [2, 5], [2, 6], [2, 7], [2, 8], [2, 9], [3, 0], [3, 1], [3, 2], [3, 3], [3, 4], [3, 5], [3, 6], [3, 7], [3, 8], [3, 9], [4, 0], [4, 1], [4, 2], [4, 3], [4, 4], [4, 5], [4, 6], [4, 7], [4, 8], [4, 9], [5, 0], [5, 1], [5, 2], [5, 3], [5, 4], [5, 5], [5, 6], [5, 7], [5, 8], [5, 9], [6, 0], [6, 1], [6, 2], [6, 3], [6, 4], [6, 5], [6, 6], [6, 7], [6, 8], [6, 9], [7, 0], [7, 1], [7, 2], [7, 3], [7, 4], [7, 5], [7, 6], [7, 7], [7, 8], [7, 9], [8, 0], [8, 1], [8, 2], [8, 3], [8, 4], [8, 5], [8, 6], [8, 7], [8, 8], [8, 9], [9, 0], [9, 1], [9, 2], [9, 3], [9, 4], [9, 5], [9, 6], [9, 7], [9, 8], [9, 9]]\n"
     ]
    }
   ],
   "source": [
    "print(test_list)"
   ]
  },
  {
   "cell_type": "code",
   "execution_count": null,
   "id": "a5e95a99-a54c-4791-8054-d482c7fa0ead",
   "metadata": {
    "tags": []
   },
   "outputs": [],
   "source": []
  }
 ],
 "metadata": {
  "kernelspec": {
   "display_name": "Python 3 (ipykernel)",
   "language": "python",
   "name": "python3"
  },
  "language_info": {
   "codemirror_mode": {
    "name": "ipython",
    "version": 3
   },
   "file_extension": ".py",
   "mimetype": "text/x-python",
   "name": "python",
   "nbconvert_exporter": "python",
   "pygments_lexer": "ipython3",
   "version": "3.9.12"
  }
 },
 "nbformat": 4,
 "nbformat_minor": 5
}
